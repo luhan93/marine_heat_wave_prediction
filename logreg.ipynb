{
 "cells": [
  {
   "cell_type": "code",
   "execution_count": 1,
   "id": "13ace0d5-1995-4620-9fe0-f6b7c7183edd",
   "metadata": {},
   "outputs": [],
   "source": [
    "import xarray as xr\n",
    "import numpy as np\n",
    "import pandas as pd\n",
    "\n",
    "import seaborn as sns\n",
    "import matplotlib.pyplot as plt\n",
    "\n",
    "from tqdm.notebook import tqdm\n",
    "\n",
    "sns.set_theme('notebook')"
   ]
  },
  {
   "cell_type": "code",
   "execution_count": 2,
   "id": "93ba8d30-c761-415b-b41f-2c7bf1e47298",
   "metadata": {},
   "outputs": [],
   "source": [
    "data = xr.open_dataset('data/oaflux_air_sea_fluxes_train.nc', engine='netcdf4')\n",
    "labels = xr.open_dataset('data/marine_heatwave_labels_train.nc', engine='netcdf4')"
   ]
  },
  {
   "cell_type": "code",
   "execution_count": 3,
   "id": "bb09f708-3995-4169-a2b1-e527e2819d31",
   "metadata": {},
   "outputs": [
    {
     "data": {
      "application/vnd.jupyter.widget-view+json": {
       "model_id": "ddde674f6eb44b7b8aa20143f8923ebc",
       "version_major": 2,
       "version_minor": 0
      },
      "text/plain": [
       "  0%|          | 0/10 [00:00<?, ?it/s]"
      ]
     },
     "metadata": {},
     "output_type": "display_data"
    }
   ],
   "source": [
    "df = None\n",
    "variables = list(data.variables)\n",
    "for var in tqdm(variables[3:]): \n",
    "    \n",
    "    stacked = data[var].stack(dim=[\"lon\", \"lat\", \"time\"]).to_pandas().T\n",
    "    if df is None:\n",
    "        df = stacked\n",
    "    else:\n",
    "        df = pd.concat([df, stacked], axis=1)\n",
    "\n",
    "# df = df.dropna(0, how='all')\n",
    "df.reset_index(inplace=True)\n",
    "df.columns = variables"
   ]
  },
  {
   "cell_type": "code",
   "execution_count": 4,
   "id": "20cd660e-ad9c-435d-95e3-dd89532f317d",
   "metadata": {},
   "outputs": [],
   "source": [
    "# sort variables and remove rows where ALL variables are NaN\n",
    "df = df.sort_values(by=[\"lon\", \"lat\", \"time\"], ascending=[True] * 3)"
   ]
  },
  {
   "cell_type": "code",
   "execution_count": 5,
   "id": "6ad9db55-acd5-4263-a310-8ae2dfd619ea",
   "metadata": {},
   "outputs": [],
   "source": [
    "df[\"month\"] = df.time.dt.month\n",
    "df[\"day\"] = df.time.dt.day\n",
    "df = df.drop([\"time\"], axis=1)\n",
    "df = df.fillna(-1)"
   ]
  },
  {
   "cell_type": "code",
   "execution_count": 6,
   "id": "69474e51-cfcf-48d7-8c8d-77aaa7638926",
   "metadata": {},
   "outputs": [],
   "source": [
    "targets = labels.mhw_label \\\n",
    "    .stack(dim=[\"lon\", \"lat\", \"time\"]) \\\n",
    "    .to_pandas().T.reset_index() \n",
    "\n",
    "targets = targets \\\n",
    "    .sort_values(by=[\"lon\", \"lat\", \"time\"]) \\\n",
    "    .drop([\"lon\", \"lat\", \"time\"], axis=1)"
   ]
  },
  {
   "cell_type": "code",
   "execution_count": 7,
   "id": "ec963716-cd4e-45de-9f40-527c7714040d",
   "metadata": {},
   "outputs": [
    {
     "data": {
      "text/html": [
       "<div>\n",
       "<style scoped>\n",
       "    .dataframe tbody tr th:only-of-type {\n",
       "        vertical-align: middle;\n",
       "    }\n",
       "\n",
       "    .dataframe tbody tr th {\n",
       "        vertical-align: top;\n",
       "    }\n",
       "\n",
       "    .dataframe thead th {\n",
       "        text-align: right;\n",
       "    }\n",
       "</style>\n",
       "<table border=\"1\" class=\"dataframe\">\n",
       "  <thead>\n",
       "    <tr style=\"text-align: right;\">\n",
       "      <th></th>\n",
       "      <th>0</th>\n",
       "    </tr>\n",
       "  </thead>\n",
       "  <tbody>\n",
       "    <tr>\n",
       "      <th>0</th>\n",
       "      <td>0.0</td>\n",
       "    </tr>\n",
       "    <tr>\n",
       "      <th>1</th>\n",
       "      <td>0.0</td>\n",
       "    </tr>\n",
       "    <tr>\n",
       "      <th>2</th>\n",
       "      <td>0.0</td>\n",
       "    </tr>\n",
       "    <tr>\n",
       "      <th>3</th>\n",
       "      <td>0.0</td>\n",
       "    </tr>\n",
       "    <tr>\n",
       "      <th>4</th>\n",
       "      <td>0.0</td>\n",
       "    </tr>\n",
       "    <tr>\n",
       "      <th>...</th>\n",
       "      <td>...</td>\n",
       "    </tr>\n",
       "    <tr>\n",
       "      <th>26697595</th>\n",
       "      <td>0.0</td>\n",
       "    </tr>\n",
       "    <tr>\n",
       "      <th>26697596</th>\n",
       "      <td>0.0</td>\n",
       "    </tr>\n",
       "    <tr>\n",
       "      <th>26697597</th>\n",
       "      <td>0.0</td>\n",
       "    </tr>\n",
       "    <tr>\n",
       "      <th>26697598</th>\n",
       "      <td>0.0</td>\n",
       "    </tr>\n",
       "    <tr>\n",
       "      <th>26697599</th>\n",
       "      <td>0.0</td>\n",
       "    </tr>\n",
       "  </tbody>\n",
       "</table>\n",
       "<p>26697600 rows × 1 columns</p>\n",
       "</div>"
      ],
      "text/plain": [
       "            0\n",
       "0         0.0\n",
       "1         0.0\n",
       "2         0.0\n",
       "3         0.0\n",
       "4         0.0\n",
       "...       ...\n",
       "26697595  0.0\n",
       "26697596  0.0\n",
       "26697597  0.0\n",
       "26697598  0.0\n",
       "26697599  0.0\n",
       "\n",
       "[26697600 rows x 1 columns]"
      ]
     },
     "execution_count": 7,
     "metadata": {},
     "output_type": "execute_result"
    }
   ],
   "source": [
    "targets"
   ]
  },
  {
   "cell_type": "code",
   "execution_count": 8,
   "id": "f65bf01a-0ae7-41ef-b000-5b666b5b7d37",
   "metadata": {},
   "outputs": [],
   "source": [
    "from sklearn.preprocessing import StandardScaler\n",
    "from sklearn.model_selection import train_test_split, cross_validate\n",
    "from sklearn.linear_model import SGDClassifier\n",
    "from sklearn.pipeline import make_pipeline"
   ]
  },
  {
   "cell_type": "code",
   "execution_count": 9,
   "id": "44011c85-8be9-4ff2-8e34-8f585159504e",
   "metadata": {},
   "outputs": [],
   "source": [
    "X_train, X_test, y_train, y_test = \\\n",
    "    train_test_split(df, targets, test_size=0.3, shuffle=True, stratify=targets, random_state=1)"
   ]
  },
  {
   "cell_type": "code",
   "execution_count": 11,
   "id": "d6b4d296-dcd7-47bb-97e6-117c1ca53f06",
   "metadata": {},
   "outputs": [
    {
     "name": "stderr",
     "output_type": "stream",
     "text": [
      "[Parallel(n_jobs=-1)]: Using backend LokyBackend with 12 concurrent workers.\n",
      "[Parallel(n_jobs=-1)]: Done   2 out of   5 | elapsed:  2.9min remaining:  4.3min\n",
      "[Parallel(n_jobs=-1)]: Done   3 out of   5 | elapsed:  2.9min remaining:  1.9min\n",
      "[Parallel(n_jobs=-1)]: Done   5 out of   5 | elapsed:  3.1min remaining:    0.0s\n",
      "[Parallel(n_jobs=-1)]: Done   5 out of   5 | elapsed:  3.1min finished\n"
     ]
    }
   ],
   "source": [
    "scoring = ['accuracy', 'precision', 'recall']\n",
    "pipe = make_pipeline(StandardScaler(), SGDClassifier(loss='log', verbose=10))\n",
    "scores = cross_validate(pipe, X_train, y_train, scoring=scoring, verbose=10, n_jobs=-1)"
   ]
  },
  {
   "cell_type": "code",
   "execution_count": 12,
   "id": "fd8c2bc0-86fe-4d34-86ed-4911fe90f513",
   "metadata": {},
   "outputs": [
    {
     "data": {
      "text/plain": [
       "{'fit_time': array([172.24347663, 156.41606903, 154.59365749, 164.7169404 ,\n",
       "        156.47908425]),\n",
       " 'score_time': array([4.29234409, 5.24218154, 4.99512601, 4.46340895, 5.31519651]),\n",
       " 'test_accuracy': array([0.94494609, 0.9449469 , 0.94494556, 0.94495894, 0.9449485 ]),\n",
       " 'test_precision': array([0.16363636, 0.11827957, 0.16666667, 0.20930233, 0.11904762]),\n",
       " 'test_recall': array([8.75065022e-05, 5.34761958e-05, 9.23679746e-05, 4.37530384e-05,\n",
       "        4.86144871e-05])}"
      ]
     },
     "execution_count": 12,
     "metadata": {},
     "output_type": "execute_result"
    }
   ],
   "source": [
    "scores"
   ]
  },
  {
   "cell_type": "code",
   "execution_count": 15,
   "id": "152b227a-7fd9-489f-87ed-d2b9ad4e00a1",
   "metadata": {},
   "outputs": [
    {
     "name": "stderr",
     "output_type": "stream",
     "text": [
      "C:\\Users\\wesle\\anaconda3\\lib\\site-packages\\sklearn\\utils\\validation.py:63: DataConversionWarning: A column-vector y was passed when a 1d array was expected. Please change the shape of y to (n_samples, ), for example using ravel().\n",
      "  return f(*args, **kwargs)\n"
     ]
    },
    {
     "name": "stdout",
     "output_type": "stream",
     "text": [
      "-- Epoch 1\n",
      "Norm: 1.86, NNZs: 13, Bias: -3.026502, T: 18688320, Avg. loss: 0.203085\n",
      "Total training time: 5.68 seconds.\n",
      "-- Epoch 2\n",
      "Norm: 1.86, NNZs: 13, Bias: -3.046322, T: 37376640, Avg. loss: 0.201135\n",
      "Total training time: 11.30 seconds.\n",
      "-- Epoch 3\n",
      "Norm: 1.84, NNZs: 13, Bias: -3.059706, T: 56064960, Avg. loss: 0.201102\n",
      "Total training time: 16.91 seconds.\n",
      "-- Epoch 4\n",
      "Norm: 1.84, NNZs: 13, Bias: -3.051522, T: 74753280, Avg. loss: 0.201090\n",
      "Total training time: 22.53 seconds.\n",
      "-- Epoch 5\n",
      "Norm: 1.84, NNZs: 13, Bias: -3.035042, T: 93441600, Avg. loss: 0.201085\n",
      "Total training time: 28.14 seconds.\n",
      "-- Epoch 6\n",
      "Norm: 1.85, NNZs: 13, Bias: -3.046700, T: 112129920, Avg. loss: 0.201080\n",
      "Total training time: 33.76 seconds.\n",
      "-- Epoch 7\n",
      "Norm: 1.85, NNZs: 13, Bias: -3.046522, T: 130818240, Avg. loss: 0.201075\n",
      "Total training time: 39.40 seconds.\n",
      "Convergence after 7 epochs took 39.40 seconds\n"
     ]
    }
   ],
   "source": [
    "from sklearn.metrics import classification_report\n",
    "\n",
    "pipe.fit(X_train, y_train)\n",
    "y_pred = pipe.predict(X_test)"
   ]
  },
  {
   "cell_type": "code",
   "execution_count": 17,
   "id": "68c4e0f6-f8cc-47e8-802b-183a5782786d",
   "metadata": {},
   "outputs": [
    {
     "name": "stdout",
     "output_type": "stream",
     "text": [
      "              precision    recall  f1-score   support\n",
      "\n",
      "         0.0       0.94      1.00      0.97   7568495\n",
      "         1.0       0.15      0.00      0.00    440785\n",
      "\n",
      "    accuracy                           0.94   8009280\n",
      "   macro avg       0.55      0.50      0.49   8009280\n",
      "weighted avg       0.90      0.94      0.92   8009280\n",
      "\n"
     ]
    }
   ],
   "source": [
    "report = classification_report(y_test, y_pred)\n",
    "print(report)"
   ]
  },
  {
   "cell_type": "code",
   "execution_count": null,
   "id": "f4125d03-5414-40bc-b569-5a54c8d68317",
   "metadata": {},
   "outputs": [],
   "source": []
  }
 ],
 "metadata": {
  "kernelspec": {
   "display_name": "Python 3",
   "language": "python",
   "name": "python3"
  },
  "language_info": {
   "codemirror_mode": {
    "name": "ipython",
    "version": 3
   },
   "file_extension": ".py",
   "mimetype": "text/x-python",
   "name": "python",
   "nbconvert_exporter": "python",
   "pygments_lexer": "ipython3",
   "version": "3.8.8"
  }
 },
 "nbformat": 4,
 "nbformat_minor": 5
}
