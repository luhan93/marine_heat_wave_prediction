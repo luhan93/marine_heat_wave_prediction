{
 "cells": [
  {
   "cell_type": "code",
   "execution_count": 1,
   "id": "13ace0d5-1995-4620-9fe0-f6b7c7183edd",
   "metadata": {},
   "outputs": [],
   "source": [
    "import xarray as xr\n",
    "import numpy as np\n",
    "import pandas as pd\n",
    "\n",
    "import seaborn as sns\n",
    "import matplotlib.pyplot as plt\n",
    "\n",
    "from sklearn.preprocessing import StandardScaler\n",
    "from sklearn.model_selection import train_test_split, cross_validate\n",
    "from sklearn.metrics import classification_report\n",
    "from sklearn.linear_model import SGDClassifier\n",
    "\n",
    "from sklearn.pipeline import make_pipeline\n",
    "from sklearn.decomposition import PCA\n",
    "from imblearn import pipeline\n",
    "\n",
    "from imblearn.under_sampling import ClusterCentroids, RandomUnderSampler, TomekLinks, NearMiss\n",
    "\n",
    "from tqdm.notebook import tqdm\n",
    "\n",
    "sns.set_theme('notebook')"
   ]
  },
  {
   "cell_type": "code",
   "execution_count": 2,
   "id": "93ba8d30-c761-415b-b41f-2c7bf1e47298",
   "metadata": {},
   "outputs": [],
   "source": [
    "data = xr.open_dataset('data/oaflux_air_sea_fluxes_train.nc', engine='netcdf4')\n",
    "labels = xr.open_dataset('data/marine_heatwave_labels_train.nc', engine='netcdf4')"
   ]
  },
  {
   "cell_type": "code",
   "execution_count": 3,
   "id": "bb09f708-3995-4169-a2b1-e527e2819d31",
   "metadata": {},
   "outputs": [
    {
     "data": {
      "application/vnd.jupyter.widget-view+json": {
       "model_id": "c2ad1349c3714b20aef4edf0411ee75e",
       "version_major": 2,
       "version_minor": 0
      },
      "text/plain": [
       "  0%|          | 0/10 [00:00<?, ?it/s]"
      ]
     },
     "metadata": {},
     "output_type": "display_data"
    }
   ],
   "source": [
    "df = None\n",
    "variables = list(data.variables)\n",
    "for var in tqdm(variables[3:]): \n",
    "    \n",
    "    stacked = data[var].stack(dim=[\"lon\", \"lat\", \"time\"]).to_pandas().T\n",
    "    if df is None:\n",
    "        df = stacked\n",
    "    else:\n",
    "        df = pd.concat([df, stacked], axis=1)\n",
    "\n",
    "df.reset_index(inplace=True)\n",
    "df.columns = variables"
   ]
  },
  {
   "cell_type": "code",
   "execution_count": 4,
   "id": "20cd660e-ad9c-435d-95e3-dd89532f317d",
   "metadata": {},
   "outputs": [
    {
     "name": "stdout",
     "output_type": "stream",
     "text": [
      "<class 'pandas.core.frame.DataFrame'>\n",
      "Int64Index: 26697600 entries, 0 to 26697599\n",
      "Data columns (total 13 columns):\n",
      " #   Column  Dtype         \n",
      "---  ------  -----         \n",
      " 0   lon     float64       \n",
      " 1   lat     float64       \n",
      " 2   time    datetime64[ns]\n",
      " 3   evapr   float32       \n",
      " 4   lhtfl   float32       \n",
      " 5   nlwrs   float32       \n",
      " 6   hum2m   float32       \n",
      " 7   qnet    float32       \n",
      " 8   shtfl   float32       \n",
      " 9   nswrs   float32       \n",
      " 10  tmp2m   float32       \n",
      " 11  tmpsf   float32       \n",
      " 12  wnd10   float32       \n",
      "dtypes: datetime64[ns](1), float32(10), float64(2)\n",
      "memory usage: 1.8 GB\n"
     ]
    }
   ],
   "source": [
    "# sort variables and remove rows where ALL variables are NaN\n",
    "df = df.sort_values(by=[\"time\"], ascending=True)\n",
    "df.info()"
   ]
  },
  {
   "cell_type": "code",
   "execution_count": 5,
   "id": "6ad9db55-acd5-4263-a310-8ae2dfd619ea",
   "metadata": {},
   "outputs": [
    {
     "name": "stdout",
     "output_type": "stream",
     "text": [
      "<class 'pandas.core.frame.DataFrame'>\n",
      "Int64Index: 26697600 entries, 0 to 26697599\n",
      "Data columns (total 14 columns):\n",
      " #   Column  Dtype  \n",
      "---  ------  -----  \n",
      " 0   lon     float64\n",
      " 1   lat     float64\n",
      " 2   evapr   float32\n",
      " 3   lhtfl   float32\n",
      " 4   nlwrs   float32\n",
      " 5   hum2m   float32\n",
      " 6   qnet    float32\n",
      " 7   shtfl   float32\n",
      " 8   nswrs   float32\n",
      " 9   tmp2m   float32\n",
      " 10  tmpsf   float32\n",
      " 11  wnd10   float32\n",
      " 12  year    int64  \n",
      " 13  month   int64  \n",
      "dtypes: float32(10), float64(2), int64(2)\n",
      "memory usage: 2.0 GB\n"
     ]
    }
   ],
   "source": [
    "df[\"year\"] = df.time.dt.year\n",
    "df[\"month\"] = df.time.dt.month\n",
    "df = df.drop([\"time\"], axis=1)\n",
    "df.info()"
   ]
  },
  {
   "cell_type": "code",
   "execution_count": 6,
   "id": "69474e51-cfcf-48d7-8c8d-77aaa7638926",
   "metadata": {},
   "outputs": [],
   "source": [
    "# sort targets for alignment with data\n",
    "targets = labels.mhw_label \\\n",
    "    .stack(dim=[\"lon\", \"lat\", \"time\"]) \\\n",
    "    .to_pandas().T.reset_index() \n",
    "\n",
    "targets = targets \\\n",
    "    .sort_values(by=[\"time\"]) \\\n",
    "    .drop([\"lon\", \"lat\", \"time\"], axis=1)"
   ]
  },
  {
   "cell_type": "code",
   "execution_count": 7,
   "id": "1d96378e-1c08-4bd4-ba74-734a01450142",
   "metadata": {},
   "outputs": [],
   "source": [
    "# concatenate targets and drop rows that are completely empty of data.\n",
    "df['targets'] = targets\n",
    "all_nans = df.loc[:, variables[3:]].isna().all(1)\n",
    "df = df.drop(df.index[all_nans], axis=0).fillna(-1)\n",
    "targets = df.pop('targets')"
   ]
  },
  {
   "cell_type": "code",
   "execution_count": 8,
   "id": "aa619214-b5d6-4d9e-9c1c-f03b548aca46",
   "metadata": {},
   "outputs": [],
   "source": [
    "X_train, X_test, y_train, y_test = \\\n",
    "    train_test_split(df, targets, test_size=0.3, shuffle=True, stratify=targets, random_state=1)"
   ]
  },
  {
   "cell_type": "code",
   "execution_count": 9,
   "id": "66dc6e7b-472a-4992-901b-c2a1a4371cc3",
   "metadata": {},
   "outputs": [
    {
     "data": {
      "text/plain": [
       "(10613941, 10613941)"
      ]
     },
     "execution_count": 9,
     "metadata": {},
     "output_type": "execute_result"
    }
   ],
   "source": [
    "len(X_train), len(y_train)"
   ]
  },
  {
   "cell_type": "code",
   "execution_count": 10,
   "id": "a3b8a97b-7dcc-4a89-8bcc-dc26e7459573",
   "metadata": {},
   "outputs": [
    {
     "name": "stderr",
     "output_type": "stream",
     "text": [
      "[Parallel(n_jobs=8)]: Using backend LokyBackend with 8 concurrent workers.\n",
      "[Parallel(n_jobs=8)]: Done   2 out of   5 | elapsed:  1.9min remaining:  2.8min\n",
      "[Parallel(n_jobs=8)]: Done   3 out of   5 | elapsed:  1.9min remaining:  1.3min\n"
     ]
    },
    {
     "name": "stdout",
     "output_type": "stream",
     "text": [
      "[0.52606492 0.52752535 0.48452271 0.41635518 0.42840078]\n"
     ]
    },
    {
     "name": "stderr",
     "output_type": "stream",
     "text": [
      "[Parallel(n_jobs=8)]: Done   5 out of   5 | elapsed:  2.0min remaining:    0.0s\n",
      "[Parallel(n_jobs=8)]: Done   5 out of   5 | elapsed:  2.0min finished\n"
     ]
    }
   ],
   "source": [
    "# set up model pipeline and cross validate.\n",
    "scoring = ['accuracy', 'precision', 'recall', 'balanced_accuracy']\n",
    "\n",
    "pipe = pipeline.Pipeline(\n",
    "    [('pca', PCA(n_components=5)),\n",
    "     ('scale', StandardScaler()),\n",
    "     ('sample', RandomUnderSampler(random_state=1)),   # tried other strategies, but performed poorly or took too long. \n",
    "     ('clf', SGDClassifier(loss='log', verbose=10))],\n",
    "    verbose=True\n",
    ")\n",
    "\n",
    "results = cross_validate(pipe, X_train, y_train, \n",
    "                         scoring=scoring, verbose=10, \n",
    "                         n_jobs=8, return_estimator=True)\n",
    "\n",
    "print(results[\"test_recall\"])"
   ]
  },
  {
   "cell_type": "code",
   "execution_count": 12,
   "id": "bf935568-e31e-49c2-89bf-208cbccee601",
   "metadata": {},
   "outputs": [
    {
     "name": "stdout",
     "output_type": "stream",
     "text": [
      "              precision    recall  f1-score   support\n",
      "\n",
      "         0.0       0.94      0.62      0.75   4173904\n",
      "         1.0       0.11      0.53      0.18    374928\n",
      "\n",
      "    accuracy                           0.62   4548832\n",
      "   macro avg       0.52      0.58      0.47   4548832\n",
      "weighted avg       0.87      0.62      0.70   4548832\n",
      "\n"
     ]
    }
   ],
   "source": [
    "best_model = results[\"estimator\"][np.argmax(results[\"test_recall\"])]\n",
    "y_pred = best_model.predict(X_test)\n",
    "\n",
    "print(classification_report(y_test, y_pred))"
   ]
  },
  {
   "cell_type": "markdown",
   "id": "f44747e4-7116-4085-8015-6737ba8824ea",
   "metadata": {},
   "source": [
    "Undersampling w/o bootstrap\n",
    "\n",
    "```\n",
    "              precision    recall  f1-score   support\n",
    "\n",
    "         0.0       0.94      0.62      0.75   4173904\n",
    "         1.0       0.11      0.53      0.18    374928\n",
    "\n",
    "    accuracy                           0.61   4548832\n",
    "   macro avg       0.52      0.57      0.47   4548832\n",
    "weighted avg       0.87      0.61      0.70   4548832\n",
    "```\n",
    "\n",
    "w bootstrap\n",
    "```\n",
    "              precision    recall  f1-score   support\n",
    "\n",
    "         0.0       0.94      0.62      0.74   4173904\n",
    "         1.0       0.11      0.53      0.18    374928\n",
    "\n",
    "    accuracy                           0.61   4548832\n",
    "   macro avg       0.52      0.58      0.46   4548832\n",
    "weighted avg       0.87      0.61      0.70   4548832\n",
    "```"
   ]
  }
 ],
 "metadata": {
  "kernelspec": {
   "display_name": "Python 3",
   "language": "python",
   "name": "python3"
  },
  "language_info": {
   "codemirror_mode": {
    "name": "ipython",
    "version": 3
   },
   "file_extension": ".py",
   "mimetype": "text/x-python",
   "name": "python",
   "nbconvert_exporter": "python",
   "pygments_lexer": "ipython3",
   "version": "3.8.8"
  }
 },
 "nbformat": 4,
 "nbformat_minor": 5
}
