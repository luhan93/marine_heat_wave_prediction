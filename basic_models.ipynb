{
 "cells": [
  {
   "cell_type": "code",
   "execution_count": 3,
   "id": "13ace0d5-1995-4620-9fe0-f6b7c7183edd",
   "metadata": {},
   "outputs": [],
   "source": [
    "import xarray as xr\n",
    "import numpy as np\n",
    "import pandas as pd\n",
    "\n",
    "import seaborn as sns\n",
    "import matplotlib.pyplot as plt\n",
    "\n",
    "from sklearn.preprocessing import StandardScaler\n",
    "from sklearn.model_selection import train_test_split, cross_validate\n",
    "from sklearn.metrics import classification_report\n",
    "from sklearn.linear_model import SGDClassifier\n",
    "from sklearn.neighbors import KNeighborsClassifier\n",
    "from sklearn.pipeline import make_pipeline\n",
    "\n",
    "from tqdm.notebook import tqdm\n",
    "\n",
    "sns.set_theme('notebook')"
   ]
  },
  {
   "cell_type": "code",
   "execution_count": 4,
   "id": "93ba8d30-c761-415b-b41f-2c7bf1e47298",
   "metadata": {},
   "outputs": [],
   "source": [
    "data = xr.open_dataset('data/oaflux_air_sea_fluxes_train.nc', engine='netcdf4')\n",
    "labels = xr.open_dataset('data/marine_heatwave_labels_train.nc', engine='netcdf4')"
   ]
  },
  {
   "cell_type": "code",
   "execution_count": 5,
   "id": "bb09f708-3995-4169-a2b1-e527e2819d31",
   "metadata": {},
   "outputs": [
    {
     "data": {
      "application/vnd.jupyter.widget-view+json": {
       "model_id": "6c5f974439174e0fa927e1d4bd875b9a",
       "version_major": 2,
       "version_minor": 0
      },
      "text/plain": [
       "  0%|          | 0/10 [00:00<?, ?it/s]"
      ]
     },
     "metadata": {},
     "output_type": "display_data"
    }
   ],
   "source": [
    "df = None\n",
    "variables = list(data.variables)\n",
    "for var in tqdm(variables[3:]): \n",
    "    \n",
    "    stacked = data[var].stack(dim=[\"lon\", \"lat\", \"time\"]).to_pandas().T\n",
    "    if df is None:\n",
    "        df = stacked\n",
    "    else:\n",
    "        df = pd.concat([df, stacked], axis=1)\n",
    "\n",
    "# df = df.dropna(0, how='all')\n",
    "df.reset_index(inplace=True)\n",
    "df.columns = variables"
   ]
  },
  {
   "cell_type": "code",
   "execution_count": 6,
   "id": "20cd660e-ad9c-435d-95e3-dd89532f317d",
   "metadata": {},
   "outputs": [],
   "source": [
    "# sort variables and remove rows where ALL variables are NaN\n",
    "df = df.sort_values(by=[\"lon\", \"lat\", \"time\"], ascending=[True] * 3)"
   ]
  },
  {
   "cell_type": "code",
   "execution_count": 7,
   "id": "6ad9db55-acd5-4263-a310-8ae2dfd619ea",
   "metadata": {},
   "outputs": [],
   "source": [
    "df[\"month\"] = df.time.dt.month\n",
    "df[\"day\"] = df.time.dt.day\n",
    "df = df.drop([\"time\"], axis=1)\n",
    "df = df.fillna(-1)"
   ]
  },
  {
   "cell_type": "code",
   "execution_count": 8,
   "id": "69474e51-cfcf-48d7-8c8d-77aaa7638926",
   "metadata": {},
   "outputs": [],
   "source": [
    "targets = labels.mhw_label \\\n",
    "    .stack(dim=[\"lon\", \"lat\", \"time\"]) \\\n",
    "    .to_pandas().T.reset_index() \n",
    "\n",
    "targets = targets \\\n",
    "    .sort_values(by=[\"lon\", \"lat\", \"time\"]) \\\n",
    "    .drop([\"lon\", \"lat\", \"time\"], axis=1)"
   ]
  },
  {
   "cell_type": "code",
   "execution_count": 9,
   "id": "ec963716-cd4e-45de-9f40-527c7714040d",
   "metadata": {},
   "outputs": [
    {
     "data": {
      "text/html": [
       "<div>\n",
       "<style scoped>\n",
       "    .dataframe tbody tr th:only-of-type {\n",
       "        vertical-align: middle;\n",
       "    }\n",
       "\n",
       "    .dataframe tbody tr th {\n",
       "        vertical-align: top;\n",
       "    }\n",
       "\n",
       "    .dataframe thead th {\n",
       "        text-align: right;\n",
       "    }\n",
       "</style>\n",
       "<table border=\"1\" class=\"dataframe\">\n",
       "  <thead>\n",
       "    <tr style=\"text-align: right;\">\n",
       "      <th></th>\n",
       "      <th>0</th>\n",
       "    </tr>\n",
       "  </thead>\n",
       "  <tbody>\n",
       "    <tr>\n",
       "      <th>0</th>\n",
       "      <td>0.0</td>\n",
       "    </tr>\n",
       "    <tr>\n",
       "      <th>1</th>\n",
       "      <td>0.0</td>\n",
       "    </tr>\n",
       "    <tr>\n",
       "      <th>2</th>\n",
       "      <td>0.0</td>\n",
       "    </tr>\n",
       "    <tr>\n",
       "      <th>3</th>\n",
       "      <td>0.0</td>\n",
       "    </tr>\n",
       "    <tr>\n",
       "      <th>4</th>\n",
       "      <td>0.0</td>\n",
       "    </tr>\n",
       "    <tr>\n",
       "      <th>...</th>\n",
       "      <td>...</td>\n",
       "    </tr>\n",
       "    <tr>\n",
       "      <th>26697595</th>\n",
       "      <td>0.0</td>\n",
       "    </tr>\n",
       "    <tr>\n",
       "      <th>26697596</th>\n",
       "      <td>0.0</td>\n",
       "    </tr>\n",
       "    <tr>\n",
       "      <th>26697597</th>\n",
       "      <td>0.0</td>\n",
       "    </tr>\n",
       "    <tr>\n",
       "      <th>26697598</th>\n",
       "      <td>0.0</td>\n",
       "    </tr>\n",
       "    <tr>\n",
       "      <th>26697599</th>\n",
       "      <td>0.0</td>\n",
       "    </tr>\n",
       "  </tbody>\n",
       "</table>\n",
       "<p>26697600 rows × 1 columns</p>\n",
       "</div>"
      ],
      "text/plain": [
       "            0\n",
       "0         0.0\n",
       "1         0.0\n",
       "2         0.0\n",
       "3         0.0\n",
       "4         0.0\n",
       "...       ...\n",
       "26697595  0.0\n",
       "26697596  0.0\n",
       "26697597  0.0\n",
       "26697598  0.0\n",
       "26697599  0.0\n",
       "\n",
       "[26697600 rows x 1 columns]"
      ]
     },
     "execution_count": 9,
     "metadata": {},
     "output_type": "execute_result"
    }
   ],
   "source": [
    "targets"
   ]
  },
  {
   "cell_type": "code",
   "execution_count": 10,
   "id": "44011c85-8be9-4ff2-8e34-8f585159504e",
   "metadata": {},
   "outputs": [],
   "source": [
    "X_train, X_test, y_train, y_test = \\\n",
    "    train_test_split(df, targets, test_size=0.3, shuffle=True, stratify=targets, random_state=1)"
   ]
  },
  {
   "cell_type": "code",
   "execution_count": 11,
   "id": "d6b4d296-dcd7-47bb-97e6-117c1ca53f06",
   "metadata": {},
   "outputs": [
    {
     "name": "stderr",
     "output_type": "stream",
     "text": [
      "[Parallel(n_jobs=6)]: Using backend LokyBackend with 6 concurrent workers.\n",
      "[Parallel(n_jobs=6)]: Done   2 out of   5 | elapsed:  2.7min remaining:  4.1min\n",
      "[Parallel(n_jobs=6)]: Done   3 out of   5 | elapsed:  2.8min remaining:  1.8min\n",
      "[Parallel(n_jobs=6)]: Done   5 out of   5 | elapsed:  2.9min remaining:    0.0s\n",
      "[Parallel(n_jobs=6)]: Done   5 out of   5 | elapsed:  2.9min finished\n",
      "C:\\Users\\wesle\\anaconda3\\lib\\site-packages\\sklearn\\utils\\validation.py:63: DataConversionWarning: A column-vector y was passed when a 1d array was expected. Please change the shape of y to (n_samples, ), for example using ravel().\n",
      "  return f(*args, **kwargs)\n"
     ]
    },
    {
     "name": "stdout",
     "output_type": "stream",
     "text": [
      "-- Epoch 1\n",
      "Norm: 0.03, NNZs: 13, Bias: -1.004561, T: 18688320, Avg. loss: 0.114722\n",
      "Total training time: 4.22 seconds.\n",
      "-- Epoch 2\n",
      "Norm: 0.02, NNZs: 13, Bias: -1.003394, T: 37376640, Avg. loss: 0.110402\n",
      "Total training time: 8.37 seconds.\n",
      "-- Epoch 3\n",
      "Norm: 0.01, NNZs: 13, Bias: -1.002222, T: 56064960, Avg. loss: 0.110264\n",
      "Total training time: 12.53 seconds.\n",
      "-- Epoch 4\n",
      "Norm: 0.01, NNZs: 13, Bias: -1.001584, T: 74753280, Avg. loss: 0.110207\n",
      "Total training time: 16.76 seconds.\n",
      "-- Epoch 5\n",
      "Norm: 0.01, NNZs: 13, Bias: -1.001121, T: 93441600, Avg. loss: 0.110176\n",
      "Total training time: 20.91 seconds.\n",
      "-- Epoch 6\n",
      "Norm: 0.01, NNZs: 13, Bias: -1.001036, T: 112129920, Avg. loss: 0.110156\n",
      "Total training time: 25.06 seconds.\n",
      "-- Epoch 7\n",
      "Norm: 0.01, NNZs: 13, Bias: -1.000874, T: 130818240, Avg. loss: 0.110143\n",
      "Total training time: 29.20 seconds.\n",
      "Convergence after 7 epochs took 29.20 seconds\n"
     ]
    },
    {
     "name": "stderr",
     "output_type": "stream",
     "text": [
      "C:\\Users\\wesle\\anaconda3\\lib\\site-packages\\sklearn\\metrics\\_classification.py:1245: UndefinedMetricWarning: Precision and F-score are ill-defined and being set to 0.0 in labels with no predicted samples. Use `zero_division` parameter to control this behavior.\n",
      "  _warn_prf(average, modifier, msg_start, len(result))\n",
      "C:\\Users\\wesle\\anaconda3\\lib\\site-packages\\sklearn\\metrics\\_classification.py:1245: UndefinedMetricWarning: Precision and F-score are ill-defined and being set to 0.0 in labels with no predicted samples. Use `zero_division` parameter to control this behavior.\n",
      "  _warn_prf(average, modifier, msg_start, len(result))\n"
     ]
    },
    {
     "name": "stdout",
     "output_type": "stream",
     "text": [
      "{'fit_time': array([158.27038169, 152.63811278, 154.05543113, 163.49093199,\n",
      "       152.2410233 ]), 'score_time': array([4.48801208, 5.33720255, 4.90810657, 4.26860619, 5.38021255]), 'test_accuracy': array([0.94496589, 0.94496589, 0.94496589, 0.94496563, 0.94496563]), 'test_precision': array([0., 0., 0., 0., 0.]), 'test_recall': array([0., 0., 0., 0., 0.])}\n",
      "              precision    recall  f1-score   support\n",
      "\n",
      "         0.0       0.94      1.00      0.97   7568495\n",
      "         1.0       0.00      0.00      0.00    440785\n",
      "\n",
      "    accuracy                           0.94   8009280\n",
      "   macro avg       0.47      0.50      0.49   8009280\n",
      "weighted avg       0.89      0.94      0.92   8009280\n",
      "\n"
     ]
    },
    {
     "name": "stderr",
     "output_type": "stream",
     "text": [
      "C:\\Users\\wesle\\anaconda3\\lib\\site-packages\\sklearn\\metrics\\_classification.py:1245: UndefinedMetricWarning: Precision and F-score are ill-defined and being set to 0.0 in labels with no predicted samples. Use `zero_division` parameter to control this behavior.\n",
      "  _warn_prf(average, modifier, msg_start, len(result))\n"
     ]
    }
   ],
   "source": [
    "scoring = ['accuracy', 'precision', 'recall']\n",
    "pipe = make_pipeline(StandardScaler(), SGDClassifier(loss='hinge', verbose=10))\n",
    "scores = cross_validate(pipe, X_train, y_train, scoring=scoring, verbose=10, n_jobs=6)\n",
    "\n",
    "pipe.fit(X_train, y_train)\n",
    "y_pred = pipe.predict(X_test)\n",
    "report = classification_report(y_test, y_pred)\n",
    "\n",
    "print(scores)\n",
    "print(report)"
   ]
  },
  {
   "cell_type": "code",
   "execution_count": 12,
   "id": "ee951f73-3886-4c40-9842-b0417bdb81d5",
   "metadata": {},
   "outputs": [
    {
     "name": "stderr",
     "output_type": "stream",
     "text": [
      "[Parallel(n_jobs=6)]: Using backend LokyBackend with 6 concurrent workers.\n",
      "[Parallel(n_jobs=6)]: Done   2 out of   5 | elapsed:  2.5min remaining:  3.8min\n",
      "[Parallel(n_jobs=6)]: Done   3 out of   5 | elapsed:  2.5min remaining:  1.7min\n",
      "[Parallel(n_jobs=6)]: Done   5 out of   5 | elapsed:  2.9min remaining:    0.0s\n",
      "[Parallel(n_jobs=6)]: Done   5 out of   5 | elapsed:  2.9min finished\n",
      "C:\\Users\\wesle\\anaconda3\\lib\\site-packages\\sklearn\\utils\\validation.py:63: DataConversionWarning: A column-vector y was passed when a 1d array was expected. Please change the shape of y to (n_samples, ), for example using ravel().\n",
      "  return f(*args, **kwargs)\n"
     ]
    },
    {
     "name": "stdout",
     "output_type": "stream",
     "text": [
      "-- Epoch 1\n",
      "Norm: 1.84, NNZs: 13, Bias: -3.038197, T: 18688320, Avg. loss: 0.203004\n",
      "Total training time: 5.63 seconds.\n",
      "-- Epoch 2\n",
      "Norm: 1.84, NNZs: 13, Bias: -3.021909, T: 37376640, Avg. loss: 0.201134\n",
      "Total training time: 11.25 seconds.\n",
      "-- Epoch 3\n",
      "Norm: 1.84, NNZs: 13, Bias: -3.037041, T: 56064960, Avg. loss: 0.201104\n",
      "Total training time: 16.84 seconds.\n",
      "-- Epoch 4\n",
      "Norm: 1.84, NNZs: 13, Bias: -3.074667, T: 74753280, Avg. loss: 0.201092\n",
      "Total training time: 22.44 seconds.\n",
      "-- Epoch 5\n",
      "Norm: 1.84, NNZs: 13, Bias: -3.049936, T: 93441600, Avg. loss: 0.201084\n",
      "Total training time: 28.01 seconds.\n",
      "-- Epoch 6\n",
      "Norm: 1.84, NNZs: 13, Bias: -3.048616, T: 112129920, Avg. loss: 0.201081\n",
      "Total training time: 33.63 seconds.\n",
      "-- Epoch 7\n",
      "Norm: 1.84, NNZs: 13, Bias: -3.053702, T: 130818240, Avg. loss: 0.201077\n",
      "Total training time: 39.22 seconds.\n",
      "Convergence after 7 epochs took 39.22 seconds\n",
      "{'fit_time': array([161.83682585, 163.35950518, 139.76409268, 133.17167187,\n",
      "       141.89087915]), 'score_time': array([4.64316964, 4.6493609 , 4.7352531 , 5.00136852, 4.83503485]), 'test_accuracy': array([0.94495359, 0.94493753, 0.94494797, 0.94495225, 0.94494957]), 'test_precision': array([0.15151515, 0.14189189, 0.14736842, 0.17948718, 0.125     ]), 'test_recall': array([4.86147235e-05, 1.02090919e-04, 6.80606128e-05, 6.80602820e-05,\n",
      "       4.86144871e-05])}\n",
      "              precision    recall  f1-score   support\n",
      "\n",
      "         0.0       0.94      1.00      0.97   7568495\n",
      "         1.0       0.12      0.00      0.00    440785\n",
      "\n",
      "    accuracy                           0.94   8009280\n",
      "   macro avg       0.53      0.50      0.49   8009280\n",
      "weighted avg       0.90      0.94      0.92   8009280\n",
      "\n"
     ]
    }
   ],
   "source": [
    "pipe = make_pipeline(StandardScaler(), SGDClassifier(loss='log', verbose=10))\n",
    "scores = cross_validate(pipe, X_train, y_train, scoring=scoring, verbose=10, n_jobs=6)\n",
    "\n",
    "pipe.fit(X_train, y_train)\n",
    "y_pred = pipe.predict(X_test)\n",
    "report = classification_report(y_test, y_pred)\n",
    "\n",
    "print(scores)\n",
    "print(report)"
   ]
  },
  {
   "cell_type": "code",
   "execution_count": null,
   "id": "61f33b9b-7ee3-414b-af42-5d45cf3b3bdd",
   "metadata": {},
   "outputs": [
    {
     "name": "stderr",
     "output_type": "stream",
     "text": [
      "[Parallel(n_jobs=6)]: Using backend LokyBackend with 6 concurrent workers.\n"
     ]
    }
   ],
   "source": [
    "# Takes too long on this data\n",
    "# pipe = make_pipeline(StandardScaler(), KNeighborsClassifier(n_neighbors=10))\n",
    "# scores = cross_validate(pipe, X_train, y_train, scoring=scoring, verbose=10, n_jobs=6)\n",
    "\n",
    "# pipe.fit(X_train, y_train)\n",
    "# y_pred = pipe.predict(X_test)\n",
    "# report = classification_report(y_test, y_pred)\n",
    "\n",
    "# print(scores)\n",
    "# print(report)"
   ]
  },
  {
   "cell_type": "code",
   "execution_count": null,
   "id": "16dbe2a4-19e0-47dc-beb1-4ee3a90999db",
   "metadata": {},
   "outputs": [],
   "source": []
  }
 ],
 "metadata": {
  "kernelspec": {
   "display_name": "Python 3",
   "language": "python",
   "name": "python3"
  },
  "language_info": {
   "codemirror_mode": {
    "name": "ipython",
    "version": 3
   },
   "file_extension": ".py",
   "mimetype": "text/x-python",
   "name": "python",
   "nbconvert_exporter": "python",
   "pygments_lexer": "ipython3",
   "version": "3.8.8"
  }
 },
 "nbformat": 4,
 "nbformat_minor": 5
}
